{
 "cells": [
  {
   "cell_type": "code",
   "execution_count": 45,
   "id": "61d551ed",
   "metadata": {},
   "outputs": [],
   "source": [
    "import numpy as np\n",
    "from numpy import pi,exp\n",
    "import matplotlib.pyplot as plt\n",
    "from scipy.integrate import solve_ivp"
   ]
  },
  {
   "cell_type": "code",
   "execution_count": 38,
   "id": "262f1ded",
   "metadata": {},
   "outputs": [],
   "source": [
    "def f(t,y):\n",
    "    dy = -100*y\n",
    "    return dy"
   ]
  },
  {
   "cell_type": "code",
   "execution_count": 39,
   "id": "2f11f573",
   "metadata": {},
   "outputs": [],
   "source": [
    "event_list=[]\n",
    "\n",
    "def event1(t,y):\n",
    "    return y-1\n",
    "event2.terminal=False\n",
    "event_list.append(event1)\n",
    "\n",
    "def event2(t,y):\n",
    "    return y-(100*t)**2\n",
    "event2.terminal=False\n",
    "event_list.append(event2)"
   ]
  },
  {
   "cell_type": "code",
   "execution_count": 44,
   "id": "91601b2d",
   "metadata": {},
   "outputs": [
    {
     "ename": "SyntaxError",
     "evalue": "invalid syntax. Perhaps you forgot a comma? (2389711405.py, line 1)",
     "output_type": "error",
     "traceback": [
      "\u001b[0;36m  Cell \u001b[0;32mIn[44], line 1\u001b[0;36m\u001b[0m\n\u001b[0;31m    x = solve_ivp(fun=f,t_span=(0.,1.),y0=np.array([10]),events=event_list,method='RK45'\u001b[0m\n\u001b[0m                                                                                  ^\u001b[0m\n\u001b[0;31mSyntaxError\u001b[0m\u001b[0;31m:\u001b[0m invalid syntax. Perhaps you forgot a comma?\n"
     ]
    }
   ],
   "source": [
    "x = solve_ivp(fun=f,t_span=(0.,1.),y0=np.array([10]),events=event_list,method='RK45',\n",
    "              t_eval=np.linspace(0.,1.,100),max_step=0.1,rtol=0.001,atol=0.01)"
   ]
  },
  {
   "cell_type": "code",
   "execution_count": 41,
   "id": "6b64715e",
   "metadata": {},
   "outputs": [
    {
     "data": {
      "text/plain": [
       "[<matplotlib.lines.Line2D at 0x16c4daed0>]"
      ]
     },
     "execution_count": 41,
     "metadata": {},
     "output_type": "execute_result"
    },
    {
     "data": {
      "image/png": "[encoded data removed]",
      "text/plain": [
       "<Figure size 640x480 with 1 Axes>"
      ]
     },
     "metadata": {},
     "output_type": "display_data"
    }
   ],
   "source": [
    "plt.plot(x.t,x.y[0])"
   ]
  },
  {
   "cell_type": "code",
   "execution_count": 31,
   "id": "b321f7e7",
   "metadata": {},
   "outputs": [
    {
     "data": {
      "text/plain": [
       "[array([], dtype=float64), array([0.01496443])]"
      ]
     },
     "execution_count": 31,
     "metadata": {},
     "output_type": "execute_result"
    }
   ],
   "source": [
    "x.t_events"
   ]
  },
  {
   "cell_type": "code",
   "execution_count": 32,
   "id": "6d7a1536",
   "metadata": {},
   "outputs": [
    {
     "data": {
      "text/plain": [
       "[array([], dtype=float64), array([[2.23934304]])]"
      ]
     },
     "execution_count": 32,
     "metadata": {},
     "output_type": "execute_result"
    }
   ],
   "source": [
    "x.y_events"
   ]
  },
  {
   "cell_type": "code",
   "execution_count": 43,
   "id": "a1da717a",
   "metadata": {},
   "outputs": [
    {
     "name": "stdout",
     "output_type": "stream",
     "text": [
      "good\n"
     ]
    }
   ],
   "source": [
    "if x.t[-1]==1.:\n",
    "    print('good')"
   ]
  },
  {
   "cell_type": "code",
   "execution_count": null,
   "id": "0ed07cdf",
   "metadata": {},
   "outputs": [],
   "source": [
    "#Defining gauss in cgs base units\n",
    "cgsgauss = (u.g)**0.5*(u.s)**(-1)*(u.cm)**(-0.5)\n",
    "\n",
    "#Universal Constants with units\n",
    "c = (const.c).cgs\n",
    "G = (const.G).cgs\n",
    "sigma = (const.sigma_sb).cgs\n",
    "k = (const.k_B).to(u.keV/u.K)\n",
    "\n"
   ]
  },
  {
   "cell_type": "code",
   "execution_count": null,
   "id": "1377b688",
   "metadata": {},
   "outputs": [],
   "source": [
    "#Fixed value functions\n",
    "def I_func(M_NS,R_NS):\n",
    "    I = 2*M_NS*(R_NS**2)/5\n",
    "    return I\n",
    "\n",
    "def mu_func(B,R_NS):\n",
    "    mu = B*(R_NS**3)\n",
    "    return mu\n",
    "\n",
    "def K_func(mu,I,c):\n",
    "    K = 2*(mu**2)/(3*(c**3)*I)\n",
    "    return K\n",
    "\n"
   ]
  },
  {
   "cell_type": "code",
   "execution_count": null,
   "id": "f9c31d01",
   "metadata": {},
   "outputs": [],
   "source": [
    "#Iterable value functions\n",
    "def R_m_func(Omega,delta,mu,rho_m,v_m):#Parameterized Magnetospheric Radius\n",
    "    exponent = 1/(delta+6)\n",
    "    numerator = (mu**2)*(v_m**(delta-2))\n",
    "    denominator = 8*math.pi*(Omega**delta)*(rho_m)\n",
    "    R_m = (numerator/denominator)**exponent\n",
    "    return R_m\n",
    "\n",
    "def R_L_func(Omega,c):#Light Cylinder Radius, Spindown transition when R_m=R_L\n",
    "    R_L = c/Omega\n",
    "    return R_L\n",
    "\n",
    "def R_K_func(Omega,G,M_NS):#Keplerian orbit radius\n",
    "    R_K = (G*M_NS/(Omega**2))**(1/3)\n",
    "    return R_K\n",
    "\n",
    "def H_number_func(R_mvalue,Omega,v_m):#Supposed to be Mach number (M)\n",
    "    H_number = R_mvalue*Omega/v_m\n",
    "    return H_number\n",
    "\n",
    "def B_func(t,B0):\n",
    "    B_min = min(B0/2,2e+13)\n",
    "    B_15 = B0/(1E+15)\n",
    "    t_yr = t/(3.154e+07)\n",
    "    tau_ohm = 1e+06\n",
    "    tau_Hall = 1e+04/B_15\n",
    "    numerator = math.exp(-t_yr/tau_ohm)\n",
    "    denominator = 1+(tau_ohm/tau_Hall)*(1 - math.exp(-t_yr/tau_ohm))\n",
    "    B = B0*numerator/denominator\n",
    "    return max(B,B_min)"
   ]
  },
  {
   "cell_type": "code",
   "execution_count": null,
   "id": "ba1b13b8",
   "metadata": {},
   "outputs": [],
   "source": [
    "\n",
    "def I_fun(M,R):\n",
    "    I = 2*M*(R**2)/5\n",
    "    return I\n",
    "\n",
    "def B_fun(t,B_0):\n",
    "    B_min = min(B0/2,2e+13)\n",
    "    B = B0*exp(-(t/3.154e+07)/1e+06)/(1+(1e+06/(tau_Hall = 1e+18/B_0))*(1 - exp(-(t/3.154e+07)/1e+06)))\n",
    "    return max(B,B_min)\n",
    "\n",
    "def mu_func(B,R_NS):\n",
    "    mu = B*(R_NS**3)\n",
    "    return mu\n",
    "\n",
    "#Dipole Phase Spindown\n",
    "def dipole_spindown_fun(t,Omega,B_0,M,R):\n",
    "    dOmega = -(2*(mu_fun(t,B_0)**2))/(3*(c**3)*I_fun(M,R))*(Omega**3)\n",
    "    return dOmega"
   ]
  },
  {
   "cell_type": "code",
   "execution_count": null,
   "id": "90a70f1c",
   "metadata": {},
   "outputs": [],
   "source": [
    "class Magnetar:\n",
    "    def __init__(self,M_NS,R_NS,gamma,delta,decay_a,decay_alpha,B0,v_m,rho_m,t0,P0,t_obvs):\n",
    "        self.M_NS_MSun = M_NS\n",
    "        self.M_NS = (M_NS*const.M_sun).cgs\n",
    "        self.R_NS = (R_NS*u.km).cgs\n",
    "        self.I = I_func(self.M_NS,self.R_NS)\n",
    "        self.gamma = gamma\n",
    "        self.delta = delta\n",
    "        self.decay_a = decay_a\n",
    "        self.decay_alpha = decay_alpha\n",
    "        self.v_m = v_m*(u.cm/u.s)\n",
    "        self.rho_m = rho_m*(u.g/(u.cm**3))\n",
    "        self.t_obvs = t_obvs\n",
    "        self.obvs_type = '0'\n",
    "        self.distance = 0*u.kpc\n",
    "        self.M_dot = 0*(u.g/u.s)\n",
    "        self.kT_eff = 0*u.keV\n",
    "\n",
    "        self.P0 = P0\n",
    "        self.B0 = B0\n",
    "        self.t_arr = np.array([t0])\n",
    "        self.Omega_arr = np.array([2*math.pi/(self.P0)])\n",
    "        self.B_arr = np.array([self.B0])\n",
    "        self.P_arr = np.array([self.P0])\n",
    "        \n",
    "        self.mu = mu_func(self.B_arr[-1]*cgsgauss,self.R_NS)\n",
    "        self.K = K_func(self.mu,self.I,c)\n",
    "        self.R_m = R_m_func(self.Omega_arr[-1],self.delta,self.mu.value,self.rho_m.value,self.v_m.value)\n",
    "        self.R_L = R_L_func(self.Omega_arr[-1],c.value)\n",
    "        self.R_K = R_K_func(self.Omega_arr[-1],G.value,self.M_NS.value)\n",
    "        self.H_number = H_number_func(self.R_m,self.Omega_arr[-1],self.v_m.value)\n",
    "\n",
    "    #Dipole Phase Spindown\n",
    "    def DipoleSpindown(self,t,Omega):\n",
    "        dOmega = -(self.K.value)*(Omega**3)\n",
    "        return dOmega\n",
    "\n",
    "    #Propeller Phase Spindown\n",
    "    def PropSpindown(self,t,Omega):\n",
    "        dOmega = -(self.mu.value**2)*(self.H_number)**(self.gamma-self.delta)/(8*self.I.value*(self.R_m)**3)\n",
    "        return dOmega\n",
    "\n",
    "    def Integratedipole(self):\n",
    "        self.dOmega_arr = np.array([self.DipoleSpindown(self.t_arr[-1],self.Omega_arr[-1])])\n",
    "\n",
    "        \n",
    "        \n",
    "        #Dipole Phase Integrator\n",
    "        self.DipolePhaseInt = integrate.RK45(fun=self.DipoleSpindown,t0=self.t_arr[-1],y0=np.array([self.Omega_arr[-1]]),\n",
    "                                             t_bound=3.16e+16,rtol=1e-05,atol=1e-26,first_step=1e+07,max_step=1e+12)\n",
    "        #Dipole Phase Integration, stops once R_m>R_L\n",
    "        while self.R_m>self.R_L and self.t_arr[-1]<self.t_obvs:\n",
    "            self.DipolePhaseInt.step()\n",
    "            self.t_arr = np.append(self.t_arr,[self.DipolePhaseInt.t])\n",
    "            self.Omega_arr = np.append(self.Omega_arr,[self.DipolePhaseInt.y[0]])\n",
    "            self.P_arr = np.append(self.P_arr,[(2*math.pi)/self.Omega_arr[-1]])\n",
    "            self.dOmega_arr = np.append(self.dOmega_arr,[self.DipoleSpindown(self.t_arr[-1],self.Omega_arr[-1])])\n",
    "            self.B_arr = np.append(self.B_arr,[B_func(self.t_arr[-1],self.B_arr[0],self.decay_a,self.decay_alpha)])\n",
    "\n",
    "            self.mu = mu_func(self.B_arr[-1]*cgsgauss,self.R_NS)\n",
    "            self.K = K_func(self.mu,self.I,c)\n",
    "            self.R_m = R_m_func(self.Omega_arr[-1],self.delta,self.mu.value,self.rho_m.value,self.v_m.value)\n",
    "            self.R_L = R_L_func(self.Omega_arr[-1],c.value)\n",
    "            self.R_K = R_K_func(self.Omega_arr[-1],G.value,self.M_NS.value)\n",
    "            self.H_number = H_number_func(self.R_m,self.Omega_arr[-1],self.v_m.value)\n",
    "    \n",
    "        if len(self.B_arr)>1:\n",
    "            self.dOmega_arr = self.dOmega_arr[0:-1]\n",
    "            self.t_arr = self.t_arr[0:-1]\n",
    "            self.Omega_arr = self.Omega_arr[0:-1]\n",
    "            self.P_arr = self.P_arr[0:-1]\n",
    "            self.B_arr = self.B_arr[0:-1]\n",
    "            self.mu = mu_func(self.B_arr[-1]*cgsgauss,self.R_NS)\n",
    "            self.K = K_func(self.mu,self.I,c)\n",
    "                                          \n",
    "        #Dipole Phase Integrator\n",
    "        self.DipolePhaseInt = integrate.RK45(fun=self.DipoleSpindown,t0=self.t_arr[-1],y0=np.array([self.Omega_arr[-1]]),\n",
    "                                             t_bound=3.16e+16,rtol=1e-05,atol=1e-26,first_step=1e+07,max_step=1e+9)\n",
    "        #Dipole Phase Integration, stops once 0.9999*R_m>R_L\n",
    "        while 0.9999*self.R_m>self.R_L and self.t_arr[-1]<0.9999*self.t_obvs:\n",
    "            self.DipolePhaseInt.step()\n",
    "            self.t_arr = np.append(self.t_arr,[self.DipolePhaseInt.t])\n",
    "            self.Omega_arr = np.append(self.Omega_arr,[self.DipolePhaseInt.y[0]])\n",
    "            self.P_arr = np.append(self.P_arr,[(2*math.pi)/self.Omega_arr[-1]])\n",
    "            self.dOmega_arr = np.append(self.dOmega_arr,[self.DipoleSpindown(self.t_arr[-1],self.Omega_arr[-1])])\n",
    "            self.B_arr = np.append(self.B_arr,[B_func(self.t_arr[-1],self.B_arr[0],self.decay_a,self.decay_alpha)])\n",
    "\n",
    "            self.mu = mu_func(self.B_arr[-1]*cgsgauss,self.R_NS)\n",
    "            self.K = K_func(self.mu,self.I,c)\n",
    "            self.R_m = R_m_func(self.Omega_arr[-1],self.delta,self.mu.value,self.rho_m.value,self.v_m.value)\n",
    "            self.R_L = R_L_func(self.Omega_arr[-1],c.value)\n",
    "            self.R_K = R_K_func(self.Omega_arr[-1],G.value,self.M_NS.value)\n",
    "            self.H_number = H_number_func(self.R_m,self.Omega_arr[-1],self.v_m.value)\n",
    "                                          \n",
    "        if self.t_arr[-1]>0.9999*self.t_obvs:\n",
    "            self.obvs_type = '1'\n",
    "            self.distance = (self.v_m*self.t_obvs*u.s).to(u.kpc)\n",
    "            \n",
    "    def Integrateprop(self):\n",
    "        #Propellor Phase Integrator\n",
    "        self.PropPhaseInt = integrate.RK45(fun=self.PropSpindown,t0=self.t_arr[-1],y0=np.array([self.Omega_arr[-1]]),\n",
    "                                           t_bound=3.16e+16,rtol=1e-05,atol=1e-26,first_step=1e+07,max_step=1e+12)\n",
    "        #Dipole Phase Integration, stops once R_m>R_L\n",
    "        while self.R_m>self.R_K and self.t_arr[-1]<self.t_obvs and self.Omega_arr[-1]>0:\n",
    "            self.PropPhaseInt.step()\n",
    "            self.t_arr = np.append(self.t_arr,[self.PropPhaseInt.t])\n",
    "            self.Omega_arr = np.append(self.Omega_arr,[self.PropPhaseInt.y[0]])\n",
    "            self.P_arr = np.append(self.P_arr,[(2*math.pi)/self.Omega_arr[-1]])\n",
    "            self.dOmega_arr = np.append(self.dOmega_arr,[self.PropSpindown(self.t_arr[-1],self.Omega_arr[-1])])\n",
    "            self.B_arr = np.append(self.B_arr,[B_func(self.t_arr[-1],self.B_arr[0],self.decay_a,self.decay_alpha)])\n",
    "\n",
    "            self.mu = mu_func(self.B_arr[-1]*cgsgauss,self.R_NS)\n",
    "            self.K = K_func(self.mu,self.I,c)\n",
    "            self.R_m = R_m_func(self.Omega_arr[-1],self.delta,self.mu.value,self.rho_m.value,self.v_m.value)\n",
    "            self.R_L = R_L_func(self.Omega_arr[-1],c.value)\n",
    "            self.R_K = R_K_func(self.Omega_arr[-1],G.value,self.M_NS.value)\n",
    "            self.H_number = H_number_func(self.R_m,self.Omega_arr[-1],self.v_m.value)\n",
    "\n",
    "        if len(self.B_arr)>1:\n",
    "            self.dOmega_arr = self.dOmega_arr[0:-1]\n",
    "            self.t_arr = self.t_arr[0:-1]\n",
    "            self.Omega_arr = self.Omega_arr[0:-1]\n",
    "            self.P_arr = self.P_arr[0:-1]\n",
    "            self.B_arr = self.B_arr[0:-1]\n",
    "            self.mu = mu_func(self.B_arr[-1]*cgsgauss,self.R_NS)\n",
    "            self.K = K_func(self.mu,self.I,c)"
   ]
  }
 ],
 "metadata": {
  "kernelspec": {
   "display_name": "Python 3 (ipykernel)",
   "language": "python",
   "name": "python3"
  },
  "language_info": {
   "codemirror_mode": {
    "name": "ipython",
    "version": 3
   },
   "file_extension": ".py",
   "mimetype": "text/x-python",
   "name": "python",
   "nbconvert_exporter": "python",
   "pygments_lexer": "ipython3",
   "version": "3.11.3"
  }
 },
 "nbformat": 4,
 "nbformat_minor": 5
}
